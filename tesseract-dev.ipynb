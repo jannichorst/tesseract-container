{
 "cells": [
  {
   "cell_type": "code",
   "execution_count": 1,
   "metadata": {},
   "outputs": [],
   "source": [
    "import cv2\n",
    "import pytesseract\n",
    "from pytesseract import Output\n",
    "import pandas as pd"
   ]
  },
  {
   "cell_type": "code",
   "execution_count": 8,
   "metadata": {},
   "outputs": [
    {
     "name": "stdout",
     "output_type": "stream",
     "text": [
      "dict_keys(['level', 'page_num', 'block_num', 'par_num', 'line_num', 'word_num', 'left', 'top', 'width', 'height', 'conf', 'text'])\n"
     ]
    }
   ],
   "source": [
    "img = cv2.imread('data/invoice.jpg')\n",
    "\n",
    "d = pytesseract.image_to_data(img, output_type=Output.DICT)\n",
    "print(d.keys())"
   ]
  },
  {
   "cell_type": "code",
   "execution_count": 9,
   "metadata": {},
   "outputs": [],
   "source": [
    "df = pd.DataFrame(d)"
   ]
  },
  {
   "cell_type": "code",
   "execution_count": null,
   "metadata": {},
   "outputs": [],
   "source": [
    "n_boxes = len(d['text'])\n",
    "for i in range(n_boxes):\n",
    "    if int(d['conf'][i]) > 60:\n",
    "        (x, y, w, h) = (d['left'][i], d['top'][i], d['width'][i], d['height'][i])\n",
    "        img = cv2.rectangle(img, (x, y), (x + w, y + h), (0, 255, 0), 2)\n",
    "\n",
    "cv2.imshow('img', img)\n",
    "cv2.waitKey(0)"
   ]
  },
  {
   "cell_type": "code",
   "execution_count": 7,
   "metadata": {},
   "outputs": [
    {
     "name": "stdout",
     "output_type": "stream",
     "text": [
      "File uploaded successfully. Task ID: 92e0a431-8ab2-4a11-8ea8-d63209c7dd9d\n"
     ]
    }
   ],
   "source": [
    "import requests\n",
    "import time\n",
    "\n",
    "# Define the URL for the upload endpoint\n",
    "upload_url = \"http://localhost:8000/upload/\"\n",
    "\n",
    "# Define the file path\n",
    "file_path = \"data/invoice.jpg\"\n",
    "\n",
    "# Read the file and send a POST request to the upload endpoint\n",
    "with open(file_path, \"rb\") as file:\n",
    "    response = requests.post(upload_url, files={\"file\": file})\n",
    "\n",
    "# Check if the upload was successful\n",
    "if response.status_code == 200:\n",
    "    data = response.json()\n",
    "    task_id = data[\"task_id\"]\n",
    "    print(f\"File uploaded successfully. Task ID: {task_id}\")\n",
    "else:\n",
    "    print(f\"Failed to upload file. Status code: {response.status_code}\")\n",
    "    exit()\n",
    "\n"
   ]
  },
  {
   "cell_type": "code",
   "execution_count": 8,
   "metadata": {},
   "outputs": [
    {
     "name": "stdout",
     "output_type": "stream",
     "text": [
      "OCR result: [{'level': 1, 'page_num': 1, 'block_num': 0, 'par_num': 0, 'line_num': 0, 'word_num': 0, 'left': 0, 'top': 0, 'width': 835, 'height': 1150, 'conf': -1, 'text': ''}, {'level': 2, 'page_num': 1, 'block_num': 1, 'par_num': 0, 'line_num': 0, 'word_num': 0, 'left': 656, 'top': 41, 'width': 119, 'height': 11, 'conf': -1, 'text': ''}, {'level': 3, 'page_num': 1, 'block_num': 1, 'par_num': 1, 'line_num': 0, 'word_num': 0, 'left': 656, 'top': 41, 'width': 119, 'height': 11, 'conf': -1, 'text': ''}, {'level': 4, 'page_num': 1, 'block_num': 1, 'par_num': 1, 'line_num': 1, 'word_num': 0, 'left': 656, 'top': 41, 'width': 119, 'height': 11, 'conf': -1, 'text': ''}, {'level': 5, 'page_num': 1, 'block_num': 1, 'par_num': 1, 'line_num': 1, 'word_num': 1, 'left': 656, 'top': 41, 'width': 119, 'height': 11, 'conf': 75, 'text': 'http://mrsinvoice.com'}, {'level': 2, 'page_num': 1, 'block_num': 2, 'par_num': 0, 'line_num': 0, 'word_num': 0, 'left': 680, 'top': 64, 'width': 67, 'height': 54, 'conf': -1, 'text': ''}, {'level': 3, 'page_num': 1, 'block_num': 2, 'par_num': 1, 'line_num': 0, 'word_num': 0, 'left': 680, 'top': 64, 'width': 67, 'height': 54, 'conf': -1, 'text': ''}, {'level': 4, 'page_num': 1, 'block_num': 2, 'par_num': 1, 'line_num': 1, 'word_num': 0, 'left': 680, 'top': 64, 'width': 67, 'height': 54, 'conf': -1, 'text': ''}, {'level': 5, 'page_num': 1, 'block_num': 2, 'par_num': 1, 'line_num': 1, 'word_num': 1, 'left': 680, 'top': 64, 'width': 67, 'height': 54, 'conf': 95, 'text': ' '}, {'level': 2, 'page_num': 1, 'block_num': 3, 'par_num': 0, 'line_num': 0, 'word_num': 0, 'left': 61, 'top': 17, 'width': 425, 'height': 152, 'conf': -1, 'text': ''}, {'level': 3, 'page_num': 1, 'block_num': 3, 'par_num': 1, 'line_num': 0, 'word_num': 0, 'left': 61, 'top': 17, 'width': 425, 'height': 152, 'conf': -1, 'text': ''}, {'level': 4, 'page_num': 1, 'block_num': 3, 'par_num': 1, 'line_num': 1, 'word_num': 0, 'left': 61, 'top': 17, 'width': 425, 'height': 152, 'conf': -1, 'text': ''}, {'level': 5, 'page_num': 1, 'block_num': 3, 'par_num': 1, 'line_num': 1, 'word_num': 1, 'left': 61, 'top': 17, 'width': 39, 'height': 151, 'conf': 0, 'text': \"'\"}, {'level': 5, 'page_num': 1, 'block_num': 3, 'par_num': 1, 'line_num': 1, 'word_num': 2, 'left': 128, 'top': 83, 'width': 358, 'height': 86, 'conf': 96, 'text': 'Invoice'}, {'level': 2, 'page_num': 1, 'block_num': 4, 'par_num': 0, 'line_num': 0, 'word_num': 0, 'left': 59, 'top': 189, 'width': 487, 'height': 12, 'conf': -1, 'text': ''}, {'level': 3, 'page_num': 1, 'block_num': 4, 'par_num': 1, 'line_num': 0, 'word_num': 0, 'left': 59, 'top': 189, 'width': 487, 'height': 12, 'conf': -1, 'text': ''}, {'level': 4, 'page_num': 1, 'block_num': 4, 'par_num': 1, 'line_num': 1, 'word_num': 0, 'left': 59, 'top': 189, 'width': 487, 'height': 12, 'conf': -1, 'text': ''}, {'level': 5, 'page_num': 1, 'block_num': 4, 'par_num': 1, 'line_num': 1, 'word_num': 1, 'left': 59, 'top': 190, 'width': 29, 'height': 9, 'conf': 89, 'text': 'Your'}, {'level': 5, 'page_num': 1, 'block_num': 4, 'par_num': 1, 'line_num': 1, 'word_num': 2, 'left': 91, 'top': 190, 'width': 58, 'height': 11, 'conf': 96, 'text': 'Company'}, {'level': 5, 'page_num': 1, 'block_num': 4, 'par_num': 1, 'line_num': 1, 'word_num': 3, 'left': 153, 'top': 190, 'width': 19, 'height': 9, 'conf': 94, 'text': 'LLC'}, {'level': 5, 'page_num': 1, 'block_num': 4, 'par_num': 1, 'line_num': 1, 'word_num': 4, 'left': 175, 'top': 189, 'width': 48, 'height': 10, 'conf': 92, 'text': 'Address'}, {'level': 5, 'page_num': 1, 'block_num': 4, 'par_num': 1, 'line_num': 1, 'word_num': 5, 'left': 227, 'top': 190, 'width': 25, 'height': 11, 'conf': 92, 'text': '123,'}, {'level': 5, 'page_num': 1, 'block_num': 4, 'par_num': 1, 'line_num': 1, 'word_num': 6, 'left': 256, 'top': 190, 'width': 33, 'height': 11, 'conf': 95, 'text': 'State,'}, {'level': 5, 'page_num': 1, 'block_num': 4, 'par_num': 1, 'line_num': 1, 'word_num': 7, 'left': 295, 'top': 190, 'width': 18, 'height': 11, 'conf': 96, 'text': 'My'}, {'level': 5, 'page_num': 1, 'block_num': 4, 'par_num': 1, 'line_num': 1, 'word_num': 8, 'left': 317, 'top': 190, 'width': 47, 'height': 11, 'conf': 93, 'text': 'Country'}, {'level': 5, 'page_num': 1, 'block_num': 4, 'par_num': 1, 'line_num': 1, 'word_num': 9, 'left': 368, 'top': 190, 'width': 6, 'height': 9, 'conf': 92, 'text': 'P'}, {'level': 5, 'page_num': 1, 'block_num': 4, 'par_num': 1, 'line_num': 1, 'word_num': 10, 'left': 379, 'top': 190, 'width': 78, 'height': 11, 'conf': 90, 'text': '111-222-333,'}, {'level': 5, 'page_num': 1, 'block_num': 4, 'par_num': 1, 'line_num': 1, 'word_num': 11, 'left': 462, 'top': 190, 'width': 5, 'height': 9, 'conf': 65, 'text': 'F'}, {'level': 5, 'page_num': 1, 'block_num': 4, 'par_num': 1, 'line_num': 1, 'word_num': 12, 'left': 472, 'top': 190, 'width': 74, 'height': 9, 'conf': 65, 'text': '111-222-334'}, {'level': 2, 'page_num': 1, 'block_num': 5, 'par_num': 0, 'line_num': 0, 'word_num': 0, 'left': 343, 'top': 317, 'width': 434, 'height': 1, 'conf': -1, 'text': ''}, {'level': 3, 'page_num': 1, 'block_num': 5, 'par_num': 1, 'line_num': 0, 'word_num': 0, 'left': 343, 'top': 317, 'width': 434, 'height': 1, 'conf': -1, 'text': ''}, {'level': 4, 'page_num': 1, 'block_num': 5, 'par_num': 1, 'line_num': 1, 'word_num': 0, 'left': 343, 'top': 317, 'width': 434, 'height': 1, 'conf': -1, 'text': ''}, {'level': 5, 'page_num': 1, 'block_num': 5, 'par_num': 1, 'line_num': 1, 'word_num': 1, 'left': 343, 'top': 317, 'width': 434, 'height': 1, 'conf': 95, 'text': ' '}, {'level': 2, 'page_num': 1, 'block_num': 6, 'par_num': 0, 'line_num': 0, 'word_num': 0, 'left': 343, 'top': 345, 'width': 434, 'height': 1, 'conf': -1, 'text': ''}, {'level': 3, 'page_num': 1, 'block_num': 6, 'par_num': 1, 'line_num': 0, 'word_num': 0, 'left': 343, 'top': 345, 'width': 434, 'height': 1, 'conf': -1, 'text': ''}, {'level': 4, 'page_num': 1, 'block_num': 6, 'par_num': 1, 'line_num': 1, 'word_num': 0, 'left': 343, 'top': 345, 'width': 434, 'height': 1, 'conf': -1, 'text': ''}, {'level': 5, 'page_num': 1, 'block_num': 6, 'par_num': 1, 'line_num': 1, 'word_num': 1, 'left': 343, 'top': 345, 'width': 434, 'height': 1, 'conf': 95, 'text': ' '}, {'level': 2, 'page_num': 1, 'block_num': 7, 'par_num': 0, 'line_num': 0, 'word_num': 0, 'left': 59, 'top': 315, 'width': 627, 'height': 50, 'conf': -1, 'text': ''}, {'level': 3, 'page_num': 1, 'block_num': 7, 'par_num': 1, 'line_num': 0, 'word_num': 0, 'left': 59, 'top': 315, 'width': 627, 'height': 50, 'conf': -1, 'text': ''}, {'level': 4, 'page_num': 1, 'block_num': 7, 'par_num': 1, 'line_num': 1, 'word_num': 0, 'left': 60, 'top': 315, 'width': 47, 'height': 9, 'conf': -1, 'text': ''}, {'level': 5, 'page_num': 1, 'block_num': 7, 'par_num': 1, 'line_num': 1, 'word_num': 1, 'left': 60, 'top': 315, 'width': 24, 'height': 9, 'conf': 45, 'text': 'BILL'}, {'level': 5, 'page_num': 1, 'block_num': 7, 'par_num': 1, 'line_num': 1, 'word_num': 2, 'left': 87, 'top': 315, 'width': 20, 'height': 9, 'conf': 45, 'text': 'TO:'}, {'level': 4, 'page_num': 1, 'block_num': 7, 'par_num': 1, 'line_num': 2, 'word_num': 0, 'left': 59, 'top': 327, 'width': 627, 'height': 16, 'conf': -1, 'text': ''}, {'level': 5, 'page_num': 1, 'block_num': 7, 'par_num': 1, 'line_num': 2, 'word_num': 1, 'left': 59, 'top': 333, 'width': 27, 'height': 10, 'conf': 27, 'text': 'Solin'}, {'level': 5, 'page_num': 1, 'block_num': 7, 'par_num': 1, 'line_num': 2, 'word_num': 2, 'left': 91, 'top': 334, 'width': 23, 'height': 9, 'conf': 50, 'text': 'bie'}, {'level': 5, 'page_num': 1, 'block_num': 7, 'par_num': 1, 'line_num': 2, 'word_num': 3, 'left': 427, 'top': 327, 'width': 41, 'height': 9, 'conf': 92, 'text': 'Invoice'}, {'level': 5, 'page_num': 1, 'block_num': 7, 'par_num': 1, 'line_num': 2, 'word_num': 4, 'left': 472, 'top': 327, 'width': 7, 'height': 9, 'conf': 92, 'text': '#'}, {'level': 5, 'page_num': 1, 'block_num': 7, 'par_num': 1, 'line_num': 2, 'word_num': 5, 'left': 650, 'top': 327, 'width': 36, 'height': 9, 'conf': 91, 'text': '00001'}, {'level': 4, 'page_num': 1, 'block_num': 7, 'par_num': 1, 'line_num': 3, 'word_num': 0, 'left': 59, 'top': 352, 'width': 613, 'height': 13, 'conf': -1, 'text': ''}, {'level': 5, 'page_num': 1, 'block_num': 7, 'par_num': 1, 'line_num': 3, 'word_num': 1, 'left': 59, 'top': 352, 'width': 34, 'height': 13, 'conf': 91, 'text': 'Alpha'}, {'level': 5, 'page_num': 1, 'block_num': 7, 'par_num': 1, 'line_num': 3, 'word_num': 2, 'left': 98, 'top': 353, 'width': 33, 'height': 9, 'conf': 96, 'text': 'Bravo'}, {'level': 5, 'page_num': 1, 'block_num': 7, 'par_num': 1, 'line_num': 3, 'word_num': 3, 'left': 135, 'top': 352, 'width': 29, 'height': 10, 'conf': 92, 'text': 'Road'}, {'level': 5, 'page_num': 1, 'block_num': 7, 'par_num': 1, 'line_num': 3, 'word_num': 4, 'left': 169, 'top': 353, 'width': 13, 'height': 9, 'conf': 96, 'text': '33'}, {'level': 5, 'page_num': 1, 'block_num': 7, 'par_num': 1, 'line_num': 3, 'word_num': 5, 'left': 416, 'top': 355, 'width': 41, 'height': 9, 'conf': 93, 'text': 'Invoice'}, {'level': 5, 'page_num': 1, 'block_num': 7, 'par_num': 1, 'line_num': 3, 'word_num': 6, 'left': 462, 'top': 355, 'width': 27, 'height': 9, 'conf': 92, 'text': 'Date'}, {'level': 5, 'page_num': 1, 'block_num': 7, 'par_num': 1, 'line_num': 3, 'word_num': 7, 'left': 638, 'top': 355, 'width': 34, 'height': 10, 'conf': 26, 'text': 'C77'}, {'level': 2, 'page_num': 1, 'block_num': 8, 'par_num': 0, 'line_num': 0, 'word_num': 0, 'left': 672, 'top': 355, 'width': 30, 'height': 10, 'conf': -1, 'text': ''}, {'level': 3, 'page_num': 1, 'block_num': 8, 'par_num': 1, 'line_num': 0, 'word_num': 0, 'left': 672, 'top': 355, 'width': 30, 'height': 10, 'conf': -1, 'text': ''}, {'level': 4, 'page_num': 1, 'block_num': 8, 'par_num': 1, 'line_num': 1, 'word_num': 0, 'left': 672, 'top': 355, 'width': 30, 'height': 10, 'conf': -1, 'text': ''}, {'level': 5, 'page_num': 1, 'block_num': 8, 'par_num': 1, 'line_num': 1, 'word_num': 1, 'left': 672, 'top': 355, 'width': 30, 'height': 10, 'conf': 95, 'text': ' '}, {'level': 2, 'page_num': 1, 'block_num': 9, 'par_num': 0, 'line_num': 0, 'word_num': 0, 'left': 343, 'top': 374, 'width': 434, 'height': 1, 'conf': -1, 'text': ''}, {'level': 3, 'page_num': 1, 'block_num': 9, 'par_num': 1, 'line_num': 0, 'word_num': 0, 'left': 343, 'top': 374, 'width': 434, 'height': 1, 'conf': -1, 'text': ''}, {'level': 4, 'page_num': 1, 'block_num': 9, 'par_num': 1, 'line_num': 1, 'word_num': 0, 'left': 343, 'top': 374, 'width': 434, 'height': 1, 'conf': -1, 'text': ''}, {'level': 5, 'page_num': 1, 'block_num': 9, 'par_num': 1, 'line_num': 1, 'word_num': 1, 'left': 343, 'top': 374, 'width': 434, 'height': 1, 'conf': 95, 'text': ' '}, {'level': 2, 'page_num': 1, 'block_num': 10, 'par_num': 0, 'line_num': 0, 'word_num': 0, 'left': 60, 'top': 373, 'width': 187, 'height': 11, 'conf': -1, 'text': ''}, {'level': 3, 'page_num': 1, 'block_num': 10, 'par_num': 1, 'line_num': 0, 'word_num': 0, 'left': 60, 'top': 373, 'width': 187, 'height': 11, 'conf': -1, 'text': ''}, {'level': 4, 'page_num': 1, 'block_num': 10, 'par_num': 1, 'line_num': 1, 'word_num': 0, 'left': 60, 'top': 373, 'width': 187, 'height': 11, 'conf': -1, 'text': ''}, {'level': 5, 'page_num': 1, 'block_num': 10, 'par_num': 1, 'line_num': 1, 'word_num': 1, 'left': 60, 'top': 373, 'width': 10, 'height': 9, 'conf': 85, 'text': 'P:'}, {'level': 5, 'page_num': 1, 'block_num': 10, 'par_num': 1, 'line_num': 1, 'word_num': 2, 'left': 75, 'top': 373, 'width': 78, 'height': 11, 'conf': 86, 'text': '111-222-333,'}, {'level': 5, 'page_num': 1, 'block_num': 10, 'par_num': 1, 'line_num': 1, 'word_num': 3, 'left': 158, 'top': 373, 'width': 5, 'height': 9, 'conf': 76, 'text': 'F:'}, {'level': 5, 'page_num': 1, 'block_num': 10, 'par_num': 1, 'line_num': 1, 'word_num': 4, 'left': 172, 'top': 373, 'width': 75, 'height': 9, 'conf': 90, 'text': '111-222-334'}, {'level': 2, 'page_num': 1, 'block_num': 11, 'par_num': 0, 'line_num': 0, 'word_num': 0, 'left': 343, 'top': 402, 'width': 434, 'height': 1, 'conf': -1, 'text': ''}, {'level': 3, 'page_num': 1, 'block_num': 11, 'par_num': 1, 'line_num': 0, 'word_num': 0, 'left': 343, 'top': 402, 'width': 434, 'height': 1, 'conf': -1, 'text': ''}, {'level': 4, 'page_num': 1, 'block_num': 11, 'par_num': 1, 'line_num': 1, 'word_num': 0, 'left': 343, 'top': 402, 'width': 434, 'height': 1, 'conf': -1, 'text': ''}, {'level': 5, 'page_num': 1, 'block_num': 11, 'par_num': 1, 'line_num': 1, 'word_num': 1, 'left': 343, 'top': 402, 'width': 434, 'height': 1, 'conf': 95, 'text': ' '}, {'level': 2, 'page_num': 1, 'block_num': 12, 'par_num': 0, 'line_num': 0, 'word_num': 0, 'left': 343, 'top': 431, 'width': 434, 'height': 1, 'conf': -1, 'text': ''}, {'level': 3, 'page_num': 1, 'block_num': 12, 'par_num': 1, 'line_num': 0, 'word_num': 0, 'left': 343, 'top': 431, 'width': 434, 'height': 1, 'conf': -1, 'text': ''}, {'level': 4, 'page_num': 1, 'block_num': 12, 'par_num': 1, 'line_num': 1, 'word_num': 0, 'left': 343, 'top': 431, 'width': 434, 'height': 1, 'conf': -1, 'text': ''}, {'level': 5, 'page_num': 1, 'block_num': 12, 'par_num': 1, 'line_num': 1, 'word_num': 1, 'left': 343, 'top': 431, 'width': 434, 'height': 1, 'conf': 95, 'text': ' '}, {'level': 2, 'page_num': 1, 'block_num': 13, 'par_num': 0, 'line_num': 0, 'word_num': 0, 'left': 59, 'top': 380, 'width': 659, 'height': 73, 'conf': -1, 'text': ''}, {'level': 3, 'page_num': 1, 'block_num': 13, 'par_num': 1, 'line_num': 0, 'word_num': 0, 'left': 59, 'top': 380, 'width': 659, 'height': 73, 'conf': -1, 'text': ''}, {'level': 4, 'page_num': 1, 'block_num': 13, 'par_num': 1, 'line_num': 1, 'word_num': 0, 'left': 60, 'top': 380, 'width': 620, 'height': 29, 'conf': -1, 'text': ''}, {'level': 5, 'page_num': 1, 'block_num': 13, 'par_num': 1, 'line_num': 1, 'word_num': 1, 'left': 60, 'top': 380, 'width': 122, 'height': 29, 'conf': 83, 'text': 'client@example.net'}, {'level': 5, 'page_num': 1, 'block_num': 13, 'par_num': 1, 'line_num': 1, 'word_num': 2, 'left': 413, 'top': 383, 'width': 50, 'height': 10, 'conf': 29, 'text': 'Nomeiot'}, {'level': 5, 'page_num': 1, 'block_num': 13, 'par_num': 1, 'line_num': 1, 'word_num': 3, 'left': 467, 'top': 384, 'width': 25, 'height': 12, 'conf': 25, 'text': 'Reps'}, {'level': 5, 'page_num': 1, 'block_num': 13, 'par_num': 1, 'line_num': 1, 'word_num': 4, 'left': 658, 'top': 383, 'width': 22, 'height': 10, 'conf': 68, 'text': 'Bob'}, {'level': 4, 'page_num': 1, 'block_num': 13, 'par_num': 1, 'line_num': 2, 'word_num': 0, 'left': 409, 'top': 411, 'width': 296, 'height': 10, 'conf': -1, 'text': ''}, {'level': 5, 'page_num': 1, 'block_num': 13, 'par_num': 1, 'line_num': 2, 'word_num': 1, 'left': 409, 'top': 412, 'width': 45, 'height': 9, 'conf': 93, 'text': 'Contact'}, {'level': 5, 'page_num': 1, 'block_num': 13, 'par_num': 1, 'line_num': 2, 'word_num': 2, 'left': 459, 'top': 411, 'width': 37, 'height': 10, 'conf': 96, 'text': 'Phone'}, {'level': 5, 'page_num': 1, 'block_num': 13, 'par_num': 1, 'line_num': 2, 'word_num': 3, 'left': 631, 'top': 412, 'width': 74, 'height': 9, 'conf': 52, 'text': '101-102-103'}, {'level': 4, 'page_num': 1, 'block_num': 13, 'par_num': 1, 'line_num': 3, 'word_num': 0, 'left': 59, 'top': 431, 'width': 82, 'height': 9, 'conf': -1, 'text': ''}, {'level': 5, 'page_num': 1, 'block_num': 13, 'par_num': 1, 'line_num': 3, 'word_num': 1, 'left': 59, 'top': 431, 'width': 58, 'height': 9, 'conf': 96, 'text': 'SHIPPING'}, {'level': 5, 'page_num': 1, 'block_num': 13, 'par_num': 1, 'line_num': 3, 'word_num': 2, 'left': 121, 'top': 431, 'width': 20, 'height': 9, 'conf': 96, 'text': 'TO:'}, {'level': 4, 'page_num': 1, 'block_num': 13, 'par_num': 1, 'line_num': 4, 'word_num': 0, 'left': 407, 'top': 440, 'width': 311, 'height': 13, 'conf': -1, 'text': ''}, {'level': 5, 'page_num': 1, 'block_num': 13, 'par_num': 1, 'line_num': 4, 'word_num': 1, 'left': 407, 'top': 441, 'width': 51, 'height': 12, 'conf': 96, 'text': 'Payment'}, {'level': 5, 'page_num': 1, 'block_num': 13, 'par_num': 1, 'line_num': 4, 'word_num': 2, 'left': 462, 'top': 441, 'width': 36, 'height': 9, 'conf': 95, 'text': 'Terms'}, {'level': 5, 'page_num': 1, 'block_num': 13, 'par_num': 1, 'line_num': 4, 'word_num': 3, 'left': 619, 'top': 440, 'width': 27, 'height': 10, 'conf': 85, 'text': 'Cash'}, {'level': 5, 'page_num': 1, 'block_num': 13, 'par_num': 1, 'line_num': 4, 'word_num': 4, 'left': 651, 'top': 443, 'width': 14, 'height': 7, 'conf': 96, 'text': 'on'}, {'level': 5, 'page_num': 1, 'block_num': 13, 'par_num': 1, 'line_num': 4, 'word_num': 5, 'left': 670, 'top': 440, 'width': 48, 'height': 13, 'conf': 93, 'text': 'Delivery'}, {'level': 2, 'page_num': 1, 'block_num': 14, 'par_num': 0, 'line_num': 0, 'word_num': 0, 'left': 343, 'top': 317, 'width': 1, 'height': 143, 'conf': -1, 'text': ''}, {'level': 3, 'page_num': 1, 'block_num': 14, 'par_num': 1, 'line_num': 0, 'word_num': 0, 'left': 343, 'top': 317, 'width': 1, 'height': 143, 'conf': -1, 'text': ''}, {'level': 4, 'page_num': 1, 'block_num': 14, 'par_num': 1, 'line_num': 1, 'word_num': 0, 'left': 343, 'top': 317, 'width': 1, 'height': 143, 'conf': -1, 'text': ''}, {'level': 5, 'page_num': 1, 'block_num': 14, 'par_num': 1, 'line_num': 1, 'word_num': 1, 'left': 343, 'top': 317, 'width': 1, 'height': 143, 'conf': 95, 'text': ' '}, {'level': 2, 'page_num': 1, 'block_num': 15, 'par_num': 0, 'line_num': 0, 'word_num': 0, 'left': 559, 'top': 317, 'width': 1, 'height': 143, 'conf': -1, 'text': ''}, {'level': 3, 'page_num': 1, 'block_num': 15, 'par_num': 1, 'line_num': 0, 'word_num': 0, 'left': 559, 'top': 317, 'width': 1, 'height': 143, 'conf': -1, 'text': ''}, {'level': 4, 'page_num': 1, 'block_num': 15, 'par_num': 1, 'line_num': 1, 'word_num': 0, 'left': 559, 'top': 317, 'width': 1, 'height': 143, 'conf': -1, 'text': ''}, {'level': 5, 'page_num': 1, 'block_num': 15, 'par_num': 1, 'line_num': 1, 'word_num': 1, 'left': 559, 'top': 317, 'width': 1, 'height': 143, 'conf': 95, 'text': ' '}, {'level': 2, 'page_num': 1, 'block_num': 16, 'par_num': 0, 'line_num': 0, 'word_num': 0, 'left': 776, 'top': 317, 'width': 1, 'height': 143, 'conf': -1, 'text': ''}, {'level': 3, 'page_num': 1, 'block_num': 16, 'par_num': 1, 'line_num': 0, 'word_num': 0, 'left': 776, 'top': 317, 'width': 1, 'height': 143, 'conf': -1, 'text': ''}, {'level': 4, 'page_num': 1, 'block_num': 16, 'par_num': 1, 'line_num': 1, 'word_num': 0, 'left': 776, 'top': 317, 'width': 1, 'height': 143, 'conf': -1, 'text': ''}, {'level': 5, 'page_num': 1, 'block_num': 16, 'par_num': 1, 'line_num': 1, 'word_num': 1, 'left': 776, 'top': 317, 'width': 1, 'height': 143, 'conf': 95, 'text': ' '}, {'level': 2, 'page_num': 1, 'block_num': 17, 'par_num': 0, 'line_num': 0, 'word_num': 0, 'left': 59, 'top': 449, 'width': 590, 'height': 71, 'conf': -1, 'text': ''}, {'level': 3, 'page_num': 1, 'block_num': 17, 'par_num': 1, 'line_num': 0, 'word_num': 0, 'left': 59, 'top': 449, 'width': 590, 'height': 71, 'conf': -1, 'text': ''}, {'level': 4, 'page_num': 1, 'block_num': 17, 'par_num': 1, 'line_num': 1, 'word_num': 0, 'left': 59, 'top': 449, 'width': 94, 'height': 10, 'conf': -1, 'text': ''}, {'level': 5, 'page_num': 1, 'block_num': 17, 'par_num': 1, 'line_num': 1, 'word_num': 1, 'left': 59, 'top': 449, 'width': 27, 'height': 10, 'conf': 96, 'text': 'John'}, {'level': 5, 'page_num': 1, 'block_num': 17, 'par_num': 1, 'line_num': 1, 'word_num': 2, 'left': 91, 'top': 450, 'width': 23, 'height': 9, 'conf': 92, 'text': 'Doe'}, {'level': 5, 'page_num': 1, 'block_num': 17, 'par_num': 1, 'line_num': 1, 'word_num': 3, 'left': 118, 'top': 449, 'width': 35, 'height': 10, 'conf': 94, 'text': 'Office'}, {'level': 4, 'page_num': 1, 'block_num': 17, 'par_num': 1, 'line_num': 2, 'word_num': 0, 'left': 60, 'top': 468, 'width': 86, 'height': 10, 'conf': -1, 'text': ''}, {'level': 5, 'page_num': 1, 'block_num': 17, 'par_num': 1, 'line_num': 2, 'word_num': 1, 'left': 60, 'top': 468, 'width': 34, 'height': 10, 'conf': 94, 'text': 'Office'}, {'level': 5, 'page_num': 1, 'block_num': 17, 'par_num': 1, 'line_num': 2, 'word_num': 2, 'left': 99, 'top': 468, 'width': 29, 'height': 10, 'conf': 94, 'text': 'Road'}, {'level': 5, 'page_num': 1, 'block_num': 17, 'par_num': 1, 'line_num': 2, 'word_num': 3, 'left': 132, 'top': 469, 'width': 14, 'height': 9, 'conf': 96, 'text': '38'}, {'level': 4, 'page_num': 1, 'block_num': 17, 'par_num': 1, 'line_num': 3, 'word_num': 0, 'left': 60, 'top': 483, 'width': 589, 'height': 18, 'conf': -1, 'text': ''}, {'level': 5, 'page_num': 1, 'block_num': 17, 'par_num': 1, 'line_num': 3, 'word_num': 1, 'left': 60, 'top': 489, 'width': 10, 'height': 9, 'conf': 76, 'text': 'P:'}, {'level': 5, 'page_num': 1, 'block_num': 17, 'par_num': 1, 'line_num': 3, 'word_num': 2, 'left': 75, 'top': 489, 'width': 78, 'height': 11, 'conf': 76, 'text': '111-383-222,'}, {'level': 5, 'page_num': 1, 'block_num': 17, 'par_num': 1, 'line_num': 3, 'word_num': 3, 'left': 158, 'top': 489, 'width': 5, 'height': 9, 'conf': 91, 'text': 'F:'}, {'level': 5, 'page_num': 1, 'block_num': 17, 'par_num': 1, 'line_num': 3, 'word_num': 4, 'left': 172, 'top': 489, 'width': 75, 'height': 9, 'conf': 75, 'text': '122-222-834'}, {'level': 5, 'page_num': 1, 'block_num': 17, 'par_num': 1, 'line_num': 3, 'word_num': 5, 'left': 470, 'top': 485, 'width': 70, 'height': 13, 'conf': 96, 'text': 'Amount'}, {'level': 5, 'page_num': 1, 'block_num': 17, 'par_num': 1, 'line_num': 3, 'word_num': 6, 'left': 547, 'top': 485, 'width': 37, 'height': 13, 'conf': 96, 'text': 'Due:'}, {'level': 5, 'page_num': 1, 'block_num': 17, 'par_num': 1, 'line_num': 3, 'word_num': 7, 'left': 591, 'top': 483, 'width': 58, 'height': 18, 'conf': 96, 'text': '$4,170'}, {'level': 4, 'page_num': 1, 'block_num': 17, 'par_num': 1, 'line_num': 4, 'word_num': 0, 'left': 60, 'top': 507, 'width': 120, 'height': 13, 'conf': -1, 'text': ''}, {'level': 5, 'page_num': 1, 'block_num': 17, 'par_num': 1, 'line_num': 4, 'word_num': 1, 'left': 60, 'top': 507, 'width': 120, 'height': 13, 'conf': 58, 'text': 'office@example.net'}, {'level': 2, 'page_num': 1, 'block_num': 18, 'par_num': 0, 'line_num': 0, 'word_num': 0, 'left': 343, 'top': 459, 'width': 434, 'height': 1, 'conf': -1, 'text': ''}, {'level': 3, 'page_num': 1, 'block_num': 18, 'par_num': 1, 'line_num': 0, 'word_num': 0, 'left': 343, 'top': 459, 'width': 434, 'height': 1, 'conf': -1, 'text': ''}, {'level': 4, 'page_num': 1, 'block_num': 18, 'par_num': 1, 'line_num': 1, 'word_num': 0, 'left': 343, 'top': 459, 'width': 434, 'height': 1, 'conf': -1, 'text': ''}, {'level': 5, 'page_num': 1, 'block_num': 18, 'par_num': 1, 'line_num': 1, 'word_num': 1, 'left': 343, 'top': 459, 'width': 434, 'height': 1, 'conf': 95, 'text': ' '}, {'level': 2, 'page_num': 1, 'block_num': 19, 'par_num': 0, 'line_num': 0, 'word_num': 0, 'left': 59, 'top': 619, 'width': 712, 'height': 1, 'conf': -1, 'text': ''}, {'level': 3, 'page_num': 1, 'block_num': 19, 'par_num': 1, 'line_num': 0, 'word_num': 0, 'left': 59, 'top': 619, 'width': 712, 'height': 1, 'conf': -1, 'text': ''}, {'level': 4, 'page_num': 1, 'block_num': 19, 'par_num': 1, 'line_num': 1, 'word_num': 0, 'left': 59, 'top': 619, 'width': 712, 'height': 1, 'conf': -1, 'text': ''}, {'level': 5, 'page_num': 1, 'block_num': 19, 'par_num': 1, 'line_num': 1, 'word_num': 1, 'left': 59, 'top': 619, 'width': 712, 'height': 1, 'conf': 95, 'text': ' '}, {'level': 2, 'page_num': 1, 'block_num': 20, 'par_num': 0, 'line_num': 0, 'word_num': 0, 'left': 59, 'top': 655, 'width': 712, 'height': 1, 'conf': -1, 'text': ''}, {'level': 3, 'page_num': 1, 'block_num': 20, 'par_num': 1, 'line_num': 0, 'word_num': 0, 'left': 59, 'top': 655, 'width': 712, 'height': 1, 'conf': -1, 'text': ''}, {'level': 4, 'page_num': 1, 'block_num': 20, 'par_num': 1, 'line_num': 1, 'word_num': 0, 'left': 59, 'top': 655, 'width': 712, 'height': 1, 'conf': -1, 'text': ''}, {'level': 5, 'page_num': 1, 'block_num': 20, 'par_num': 1, 'line_num': 1, 'word_num': 1, 'left': 59, 'top': 655, 'width': 712, 'height': 1, 'conf': 95, 'text': ' '}, {'level': 2, 'page_num': 1, 'block_num': 21, 'par_num': 0, 'line_num': 0, 'word_num': 0, 'left': 96, 'top': 655, 'width': 1, 'height': 106, 'conf': -1, 'text': ''}, {'level': 3, 'page_num': 1, 'block_num': 21, 'par_num': 1, 'line_num': 0, 'word_num': 0, 'left': 96, 'top': 655, 'width': 1, 'height': 106, 'conf': -1, 'text': ''}, {'level': 4, 'page_num': 1, 'block_num': 21, 'par_num': 1, 'line_num': 1, 'word_num': 0, 'left': 96, 'top': 655, 'width': 1, 'height': 106, 'conf': -1, 'text': ''}, {'level': 5, 'page_num': 1, 'block_num': 21, 'par_num': 1, 'line_num': 1, 'word_num': 1, 'left': 96, 'top': 655, 'width': 1, 'height': 106, 'conf': 95, 'text': ' '}, {'level': 2, 'page_num': 1, 'block_num': 22, 'par_num': 0, 'line_num': 0, 'word_num': 0, 'left': 59, 'top': 760, 'width': 712, 'height': 1, 'conf': -1, 'text': ''}, {'level': 3, 'page_num': 1, 'block_num': 22, 'par_num': 1, 'line_num': 0, 'word_num': 0, 'left': 59, 'top': 760, 'width': 712, 'height': 1, 'conf': -1, 'text': ''}, {'level': 4, 'page_num': 1, 'block_num': 22, 'par_num': 1, 'line_num': 1, 'word_num': 0, 'left': 59, 'top': 760, 'width': 712, 'height': 1, 'conf': -1, 'text': ''}, {'level': 5, 'page_num': 1, 'block_num': 22, 'par_num': 1, 'line_num': 1, 'word_num': 1, 'left': 59, 'top': 760, 'width': 712, 'height': 1, 'conf': 95, 'text': ' '}, {'level': 2, 'page_num': 1, 'block_num': 23, 'par_num': 0, 'line_num': 0, 'word_num': 0, 'left': 66, 'top': 622, 'width': 698, 'height': 210, 'conf': -1, 'text': ''}, {'level': 3, 'page_num': 1, 'block_num': 23, 'par_num': 1, 'line_num': 0, 'word_num': 0, 'left': 71, 'top': 622, 'width': 693, 'height': 29, 'conf': -1, 'text': ''}, {'level': 4, 'page_num': 1, 'block_num': 23, 'par_num': 1, 'line_num': 1, 'word_num': 0, 'left': 71, 'top': 622, 'width': 693, 'height': 13, 'conf': -1, 'text': ''}, {'level': 5, 'page_num': 1, 'block_num': 23, 'par_num': 1, 'line_num': 1, 'word_num': 1, 'left': 71, 'top': 624, 'width': 18, 'height': 9, 'conf': 37, 'text': 'NO'}, {'level': 5, 'page_num': 1, 'block_num': 23, 'par_num': 1, 'line_num': 1, 'word_num': 2, 'left': 105, 'top': 622, 'width': 125, 'height': 13, 'conf': 78, 'text': 'PRODUCTS'}, {'level': 5, 'page_num': 1, 'block_num': 23, 'par_num': 1, 'line_num': 1, 'word_num': 3, 'left': 171, 'top': 618, 'width': 6, 'height': 24, 'conf': 93, 'text': '/'}, {'level': 5, 'page_num': 1, 'block_num': 23, 'par_num': 1, 'line_num': 1, 'word_num': 4, 'left': 185, 'top': 622, 'width': 45, 'height': 13, 'conf': 96, 'text': 'SERVICE'}, {'level': 5, 'page_num': 1, 'block_num': 23, 'par_num': 1, 'line_num': 1, 'word_num': 5, 'left': 483, 'top': 622, 'width': 71, 'height': 13, 'conf': 75, 'text': 'QUANTITY'}, {'level': 5, 'page_num': 1, 'block_num': 23, 'par_num': 1, 'line_num': 1, 'word_num': 6, 'left': 551, 'top': 618, 'width': 6, 'height': 24, 'conf': 52, 'text': '/'}, {'level': 5, 'page_num': 1, 'block_num': 23, 'par_num': 1, 'line_num': 1, 'word_num': 7, 'left': 577, 'top': 622, 'width': 72, 'height': 13, 'conf': 40, 'text': 'RATE'}, {'level': 5, 'page_num': 1, 'block_num': 23, 'par_num': 1, 'line_num': 1, 'word_num': 8, 'left': 609, 'top': 618, 'width': 6, 'height': 24, 'conf': 57, 'text': '/'}, {'level': 5, 'page_num': 1, 'block_num': 23, 'par_num': 1, 'line_num': 1, 'word_num': 9, 'left': 623, 'top': 622, 'width': 26, 'height': 13, 'conf': 93, 'text': 'UNIT'}, {'level': 5, 'page_num': 1, 'block_num': 23, 'par_num': 1, 'line_num': 1, 'word_num': 10, 'left': 707, 'top': 624, 'width': 57, 'height': 9, 'conf': 94, 'text': 'AMOUNT'}, {'level': 4, 'page_num': 1, 'block_num': 23, 'par_num': 1, 'line_num': 2, 'word_num': 0, 'left': 512, 'top': 642, 'width': 136, 'height': 9, 'conf': -1, 'text': ''}, {'level': 5, 'page_num': 1, 'block_num': 23, 'par_num': 1, 'line_num': 2, 'word_num': 1, 'left': 512, 'top': 642, 'width': 42, 'height': 9, 'conf': 54, 'text': 'HOURS'}, {'level': 5, 'page_num': 1, 'block_num': 23, 'par_num': 1, 'line_num': 2, 'word_num': 2, 'left': 615, 'top': 642, 'width': 33, 'height': 9, 'conf': 95, 'text': 'PRICE'}, {'level': 3, 'page_num': 1, 'block_num': 23, 'par_num': 2, 'line_num': 0, 'word_num': 0, 'left': 67, 'top': 662, 'width': 697, 'height': 14, 'conf': -1, 'text': ''}, {'level': 4, 'page_num': 1, 'block_num': 23, 'par_num': 2, 'line_num': 1, 'word_num': 0, 'left': 67, 'top': 662, 'width': 697, 'height': 14, 'conf': -1, 'text': ''}, {'level': 5, 'page_num': 1, 'block_num': 23, 'par_num': 2, 'line_num': 1, 'word_num': 1, 'left': 67, 'top': 664, 'width': 6, 'height': 9, 'conf': 60, 'text': '1'}, {'level': 5, 'page_num': 1, 'block_num': 23, 'par_num': 2, 'line_num': 1, 'word_num': 2, 'left': 104, 'top': 664, 'width': 26, 'height': 12, 'conf': 14, 'text': 'aye'}, {'level': 5, 'page_num': 1, 'block_num': 23, 'par_num': 2, 'line_num': 1, 'word_num': 3, 'left': 547, 'top': 664, 'width': 7, 'height': 9, 'conf': 95, 'text': '2'}, {'level': 5, 'page_num': 1, 'block_num': 23, 'par_num': 2, 'line_num': 1, 'word_num': 4, 'left': 627, 'top': 662, 'width': 21, 'height': 13, 'conf': 95, 'text': '$20'}, {'level': 5, 'page_num': 1, 'block_num': 23, 'par_num': 2, 'line_num': 1, 'word_num': 5, 'left': 742, 'top': 662, 'width': 22, 'height': 13, 'conf': 95, 'text': '$40'}, {'level': 3, 'page_num': 1, 'block_num': 23, 'par_num': 3, 'line_num': 0, 'word_num': 0, 'left': 67, 'top': 688, 'width': 697, 'height': 14, 'conf': -1, 'text': ''}, {'level': 4, 'page_num': 1, 'block_num': 23, 'par_num': 3, 'line_num': 1, 'word_num': 0, 'left': 67, 'top': 688, 'width': 697, 'height': 14, 'conf': -1, 'text': ''}, {'level': 5, 'page_num': 1, 'block_num': 23, 'par_num': 3, 'line_num': 1, 'word_num': 1, 'left': 67, 'top': 690, 'width': 6, 'height': 9, 'conf': 21, 'text': '2__|'}, {'level': 5, 'page_num': 1, 'block_num': 23, 'par_num': 3, 'line_num': 1, 'word_num': 2, 'left': 104, 'top': 690, 'width': 49, 'height': 12, 'conf': 86, 'text': 'Steering'}, {'level': 5, 'page_num': 1, 'block_num': 23, 'par_num': 3, 'line_num': 1, 'word_num': 3, 'left': 157, 'top': 689, 'width': 38, 'height': 10, 'conf': 76, 'text': 'Wheel'}, {'level': 5, 'page_num': 1, 'block_num': 23, 'par_num': 3, 'line_num': 1, 'word_num': 4, 'left': 547, 'top': 690, 'width': 7, 'height': 9, 'conf': 57, 'text': '5'}, {'level': 5, 'page_num': 1, 'block_num': 23, 'par_num': 3, 'line_num': 1, 'word_num': 5, 'left': 627, 'top': 688, 'width': 21, 'height': 13, 'conf': 96, 'text': '$10'}, {'level': 5, 'page_num': 1, 'block_num': 23, 'par_num': 3, 'line_num': 1, 'word_num': 6, 'left': 742, 'top': 688, 'width': 22, 'height': 13, 'conf': 90, 'text': '$50'}, {'level': 3, 'page_num': 1, 'block_num': 23, 'par_num': 4, 'line_num': 0, 'word_num': 0, 'left': 67, 'top': 705, 'width': 697, 'height': 30, 'conf': -1, 'text': ''}, {'level': 4, 'page_num': 1, 'block_num': 23, 'par_num': 4, 'line_num': 1, 'word_num': 0, 'left': 67, 'top': 705, 'width': 697, 'height': 30, 'conf': -1, 'text': ''}, {'level': 5, 'page_num': 1, 'block_num': 23, 'par_num': 4, 'line_num': 1, 'word_num': 1, 'left': 67, 'top': 716, 'width': 6, 'height': 9, 'conf': 50, 'text': '3'}, {'level': 5, 'page_num': 1, 'block_num': 23, 'par_num': 4, 'line_num': 1, 'word_num': 2, 'left': 90, 'top': 705, 'width': 8, 'height': 30, 'conf': 69, 'text': '|'}, {'level': 5, 'page_num': 1, 'block_num': 23, 'par_num': 4, 'line_num': 1, 'word_num': 3, 'left': 105, 'top': 716, 'width': 39, 'height': 12, 'conf': 89, 'text': 'Engine'}, {'level': 5, 'page_num': 1, 'block_num': 23, 'par_num': 4, 'line_num': 1, 'word_num': 4, 'left': 148, 'top': 715, 'width': 15, 'height': 10, 'conf': 89, 'text': 'oil'}, {'level': 5, 'page_num': 1, 'block_num': 23, 'par_num': 4, 'line_num': 1, 'word_num': 5, 'left': 540, 'top': 716, 'width': 14, 'height': 9, 'conf': 93, 'text': '10'}, {'level': 5, 'page_num': 1, 'block_num': 23, 'par_num': 4, 'line_num': 1, 'word_num': 6, 'left': 623, 'top': 705, 'width': 25, 'height': 30, 'conf': 91, 'text': '$15'}, {'level': 5, 'page_num': 1, 'block_num': 23, 'par_num': 4, 'line_num': 1, 'word_num': 7, 'left': 734, 'top': 714, 'width': 30, 'height': 13, 'conf': 93, 'text': '$150'}, {'level': 3, 'page_num': 1, 'block_num': 23, 'par_num': 5, 'line_num': 0, 'word_num': 0, 'left': 66, 'top': 740, 'width': 698, 'height': 13, 'conf': -1, 'text': ''}, {'level': 4, 'page_num': 1, 'block_num': 23, 'par_num': 5, 'line_num': 1, 'word_num': 0, 'left': 66, 'top': 740, 'width': 698, 'height': 13, 'conf': -1, 'text': ''}, {'level': 5, 'page_num': 1, 'block_num': 23, 'par_num': 5, 'line_num': 1, 'word_num': 1, 'left': 66, 'top': 742, 'width': 7, 'height': 9, 'conf': 51, 'text': '4'}, {'level': 5, 'page_num': 1, 'block_num': 23, 'par_num': 5, 'line_num': 1, 'word_num': 2, 'left': 89, 'top': 731, 'width': 8, 'height': 30, 'conf': 51, 'text': '|'}, {'level': 5, 'page_num': 1, 'block_num': 23, 'par_num': 5, 'line_num': 1, 'word_num': 3, 'left': 105, 'top': 741, 'width': 33, 'height': 10, 'conf': 96, 'text': 'Brake'}, {'level': 5, 'page_num': 1, 'block_num': 23, 'par_num': 5, 'line_num': 1, 'word_num': 4, 'left': 142, 'top': 741, 'width': 21, 'height': 10, 'conf': 90, 'text': 'Pad'}, {'level': 5, 'page_num': 1, 'block_num': 23, 'par_num': 5, 'line_num': 1, 'word_num': 5, 'left': 540, 'top': 742, 'width': 14, 'height': 9, 'conf': 90, 'text': '24'}, {'level': 5, 'page_num': 1, 'block_num': 23, 'par_num': 5, 'line_num': 1, 'word_num': 6, 'left': 612, 'top': 740, 'width': 36, 'height': 13, 'conf': 96, 'text': '$1000'}, {'level': 5, 'page_num': 1, 'block_num': 23, 'par_num': 5, 'line_num': 1, 'word_num': 7, 'left': 724, 'top': 740, 'width': 40, 'height': 13, 'conf': 95, 'text': '$2,400'}, {'level': 3, 'page_num': 1, 'block_num': 23, 'par_num': 6, 'line_num': 0, 'word_num': 0, 'left': 599, 'top': 758, 'width': 164, 'height': 30, 'conf': -1, 'text': ''}, {'level': 4, 'page_num': 1, 'block_num': 23, 'par_num': 6, 'line_num': 1, 'word_num': 0, 'left': 599, 'top': 758, 'width': 164, 'height': 30, 'conf': -1, 'text': ''}, {'level': 5, 'page_num': 1, 'block_num': 23, 'par_num': 6, 'line_num': 1, 'word_num': 1, 'left': 599, 'top': 758, 'width': 49, 'height': 30, 'conf': 96, 'text': 'Subtotal'}, {'level': 5, 'page_num': 1, 'block_num': 23, 'par_num': 6, 'line_num': 1, 'word_num': 2, 'left': 735, 'top': 767, 'width': 28, 'height': 13, 'conf': 90, 'text': '$275'}, {'level': 3, 'page_num': 1, 'block_num': 23, 'par_num': 7, 'line_num': 0, 'word_num': 0, 'left': 590, 'top': 793, 'width': 173, 'height': 14, 'conf': -1, 'text': ''}, {'level': 4, 'page_num': 1, 'block_num': 23, 'par_num': 7, 'line_num': 1, 'word_num': 0, 'left': 590, 'top': 793, 'width': 173, 'height': 14, 'conf': -1, 'text': ''}, {'level': 5, 'page_num': 1, 'block_num': 23, 'par_num': 7, 'line_num': 1, 'word_num': 1, 'left': 590, 'top': 795, 'width': 21, 'height': 9, 'conf': 78, 'text': 'Tax'}, {'level': 5, 'page_num': 1, 'block_num': 23, 'par_num': 7, 'line_num': 1, 'word_num': 2, 'left': 615, 'top': 794, 'width': 33, 'height': 13, 'conf': 96, 'text': '(10%)'}, {'level': 5, 'page_num': 1, 'block_num': 23, 'par_num': 7, 'line_num': 1, 'word_num': 3, 'left': 731, 'top': 793, 'width': 32, 'height': 13, 'conf': 72, 'text': '$27.5'}, {'level': 3, 'page_num': 1, 'block_num': 23, 'par_num': 8, 'line_num': 0, 'word_num': 0, 'left': 579, 'top': 819, 'width': 184, 'height': 13, 'conf': -1, 'text': ''}, {'level': 4, 'page_num': 1, 'block_num': 23, 'par_num': 8, 'line_num': 1, 'word_num': 0, 'left': 579, 'top': 819, 'width': 184, 'height': 13, 'conf': -1, 'text': ''}, {'level': 5, 'page_num': 1, 'block_num': 23, 'par_num': 8, 'line_num': 1, 'word_num': 1, 'left': 579, 'top': 820, 'width': 35, 'height': 10, 'conf': 95, 'text': 'Grand'}, {'level': 5, 'page_num': 1, 'block_num': 23, 'par_num': 8, 'line_num': 1, 'word_num': 2, 'left': 618, 'top': 820, 'width': 30, 'height': 10, 'conf': 95, 'text': 'Total'}, {'level': 5, 'page_num': 1, 'block_num': 23, 'par_num': 8, 'line_num': 1, 'word_num': 3, 'left': 723, 'top': 819, 'width': 40, 'height': 13, 'conf': 66, 'text': '$202.5'}, {'level': 2, 'page_num': 1, 'block_num': 24, 'par_num': 0, 'line_num': 0, 'word_num': 0, 'left': 316, 'top': 1076, 'width': 204, 'height': 9, 'conf': -1, 'text': ''}, {'level': 3, 'page_num': 1, 'block_num': 24, 'par_num': 1, 'line_num': 0, 'word_num': 0, 'left': 316, 'top': 1076, 'width': 204, 'height': 9, 'conf': -1, 'text': ''}, {'level': 4, 'page_num': 1, 'block_num': 24, 'par_num': 1, 'line_num': 1, 'word_num': 0, 'left': 316, 'top': 1076, 'width': 204, 'height': 9, 'conf': -1, 'text': ''}, {'level': 5, 'page_num': 1, 'block_num': 24, 'par_num': 1, 'line_num': 1, 'word_num': 1, 'left': 316, 'top': 1076, 'width': 44, 'height': 9, 'conf': 71, 'text': '‘THANK'}, {'level': 5, 'page_num': 1, 'block_num': 24, 'par_num': 1, 'line_num': 1, 'word_num': 2, 'left': 363, 'top': 1076, 'width': 26, 'height': 9, 'conf': 95, 'text': 'YOU'}, {'level': 5, 'page_num': 1, 'block_num': 24, 'par_num': 1, 'line_num': 1, 'word_num': 3, 'left': 394, 'top': 1076, 'width': 24, 'height': 9, 'conf': 95, 'text': 'FOR'}, {'level': 5, 'page_num': 1, 'block_num': 24, 'par_num': 1, 'line_num': 1, 'word_num': 4, 'left': 422, 'top': 1076, 'width': 35, 'height': 9, 'conf': 94, 'text': 'YOUR'}, {'level': 5, 'page_num': 1, 'block_num': 24, 'par_num': 1, 'line_num': 1, 'word_num': 5, 'left': 461, 'top': 1076, 'width': 59, 'height': 9, 'conf': 85, 'text': 'BUSINESS'}]\n"
     ]
    }
   ],
   "source": [
    "\n",
    "# Define the URL for the result endpoint\n",
    "result_url = f\"http://localhost:8000/result/{task_id}\"\n",
    "\n",
    "# Poll the result endpoint until the processing is done\n",
    "while True:\n",
    "    result_response = requests.get(result_url)\n",
    "    if result_response.status_code == 200:\n",
    "        result_data = result_response.json()\n",
    "        if result_data[\"state\"] == \"SUCCESS\":\n",
    "            print(\"OCR result:\", result_data[\"results\"])\n",
    "            break\n",
    "        elif result_data[\"state\"] == \"PENDING\":\n",
    "            print(\"Processing is still in progress. Retrying in 5 seconds...\")\n",
    "            time.sleep(5)\n",
    "        else:\n",
    "            print(\"Unexpected state:\", result_data[\"state\"])\n",
    "            break\n",
    "    else:\n",
    "        print(f\"Failed to retrieve result. Status code: {result_response.status_code}\")\n",
    "        break"
   ]
  },
  {
   "cell_type": "code",
   "execution_count": 5,
   "metadata": {},
   "outputs": [
    {
     "data": {
      "text/plain": [
       "{'state': 'PENDING',\n",
       " 'status': 'in_progress',\n",
       " 'file_name': 'invoice.jpg',\n",
       " 'start_datetime': '2024-05-27T22:04:51.975492',\n",
       " 'end_datetime': None,\n",
       " 'width': None,\n",
       " 'height': None}"
      ]
     },
     "execution_count": 5,
     "metadata": {},
     "output_type": "execute_result"
    }
   ],
   "source": [
    "result_data"
   ]
  },
  {
   "cell_type": "code",
   "execution_count": 6,
   "metadata": {},
   "outputs": [
    {
     "name": "stdout",
     "output_type": "stream",
     "text": [
      "Health Check: {'status': 'healthy'}\n"
     ]
    }
   ],
   "source": [
    "import requests\n",
    "\n",
    "# Define the URL for the health endpoint\n",
    "health_url = \"http://localhost:8000/health\"\n",
    "\n",
    "# Send a GET request to the health endpoint\n",
    "response = requests.get(health_url)\n",
    "\n",
    "# Check if the request was successful\n",
    "if response.status_code == 200:\n",
    "    health_status = response.json()\n",
    "    print(f\"Health Check: {health_status}\")\n",
    "else:\n",
    "    print(f\"Failed to get health status. Status code: {response.status_code}, Response: {response.text}\")\n"
   ]
  },
  {
   "cell_type": "code",
   "execution_count": 1,
   "metadata": {},
   "outputs": [],
   "source": [
    "import cv2\n",
    "import numpy as np\n",
    "\n",
    "img = cv2.imread(\"data/invoice.jpg\")\n",
    "\n",
    "# get grayscale image\n",
    "def get_grayscale(image):\n",
    "    return cv2.cvtColor(image, cv2.COLOR_BGR2GRAY)\n",
    "\n",
    "# noise removal\n",
    "def remove_noise(image):\n",
    "    return cv2.medianBlur(image,5)\n",
    " \n",
    "#thresholding\n",
    "def thresholding(image):\n",
    "    return cv2.threshold(image, 0, 255, cv2.THRESH_BINARY + cv2.THRESH_OTSU)[1]"
   ]
  },
  {
   "cell_type": "code",
   "execution_count": 2,
   "metadata": {},
   "outputs": [],
   "source": [
    "imgs = get_grayscale(img)\n",
    "imgs = thresholding(imgs)\n",
    "cv2.imshow('img', imgs)"
   ]
  }
 ],
 "metadata": {
  "kernelspec": {
   "display_name": ".venv",
   "language": "python",
   "name": "python3"
  },
  "language_info": {
   "codemirror_mode": {
    "name": "ipython",
    "version": 3
   },
   "file_extension": ".py",
   "mimetype": "text/x-python",
   "name": "python",
   "nbconvert_exporter": "python",
   "pygments_lexer": "ipython3",
   "version": "3.11.3"
  }
 },
 "nbformat": 4,
 "nbformat_minor": 2
}
